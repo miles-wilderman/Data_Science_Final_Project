{
 "cells": [
  {
   "cell_type": "markdown",
   "id": "4999a9fc",
   "metadata": {},
   "source": [
    "------Data Cookbook - Miles Wilderman ------\n",
    "9 May, 2023 ------\n",
    "Professor Wirfs-Brock ------\n",
    "Introduction to Data Science ------"
   ]
  },
  {
   "cell_type": "markdown",
   "id": "57c8afaa",
   "metadata": {},
   "source": [
    "1) Importing and Cleaning a Dataset"
   ]
  },
  {
   "cell_type": "code",
   "execution_count": 4,
   "id": "f4eb320b",
   "metadata": {},
   "outputs": [],
   "source": [
    "import pandas as pd\n",
    "import numpy as np\n",
    "import matplotlib.pyplot as plt"
   ]
  },
  {
   "cell_type": "markdown",
   "id": "bb8779c4",
   "metadata": {},
   "source": [
    "Importing the dataset that I will be using to explain concepts."
   ]
  },
  {
   "cell_type": "code",
   "execution_count": 5,
   "id": "1f85cfd2",
   "metadata": {},
   "outputs": [
    {
     "data": {
      "text/html": [
       "<div>\n",
       "<style scoped>\n",
       "    .dataframe tbody tr th:only-of-type {\n",
       "        vertical-align: middle;\n",
       "    }\n",
       "\n",
       "    .dataframe tbody tr th {\n",
       "        vertical-align: top;\n",
       "    }\n",
       "\n",
       "    .dataframe thead th {\n",
       "        text-align: right;\n",
       "    }\n",
       "</style>\n",
       "<table border=\"1\" class=\"dataframe\">\n",
       "  <thead>\n",
       "    <tr style=\"text-align: right;\">\n",
       "      <th></th>\n",
       "      <th>Date</th>\n",
       "      <th>24 hr New Snow</th>\n",
       "      <th>Season Snowfall Total</th>\n",
       "      <th>Base Depth</th>\n",
       "    </tr>\n",
       "  </thead>\n",
       "  <tbody>\n",
       "    <tr>\n",
       "      <th>0</th>\n",
       "      <td>2-Jan-17</td>\n",
       "      <td>8 cm</td>\n",
       "      <td>8 cm</td>\n",
       "      <td>74 cm</td>\n",
       "    </tr>\n",
       "    <tr>\n",
       "      <th>1</th>\n",
       "      <td>4-Jan-17</td>\n",
       "      <td>8 cm</td>\n",
       "      <td>16 cm</td>\n",
       "      <td>71 cm</td>\n",
       "    </tr>\n",
       "    <tr>\n",
       "      <th>2</th>\n",
       "      <td>5-Jan-17</td>\n",
       "      <td>8 cm</td>\n",
       "      <td>24 cm</td>\n",
       "      <td>76 cm</td>\n",
       "    </tr>\n",
       "    <tr>\n",
       "      <th>3</th>\n",
       "      <td>8-Jan-17</td>\n",
       "      <td>10 cm</td>\n",
       "      <td>34 cm</td>\n",
       "      <td>81 cm</td>\n",
       "    </tr>\n",
       "    <tr>\n",
       "      <th>4</th>\n",
       "      <td>10-Jan-17</td>\n",
       "      <td>20 cm</td>\n",
       "      <td>54 cm</td>\n",
       "      <td>79 cm</td>\n",
       "    </tr>\n",
       "    <tr>\n",
       "      <th>...</th>\n",
       "      <td>...</td>\n",
       "      <td>...</td>\n",
       "      <td>...</td>\n",
       "      <td>...</td>\n",
       "    </tr>\n",
       "    <tr>\n",
       "      <th>688</th>\n",
       "      <td>22-Dec-09</td>\n",
       "      <td>3 cm</td>\n",
       "      <td>1029 cm</td>\n",
       "      <td>66 cm</td>\n",
       "    </tr>\n",
       "    <tr>\n",
       "      <th>689</th>\n",
       "      <td>23-Dec-09</td>\n",
       "      <td>3 cm</td>\n",
       "      <td>1032 cm</td>\n",
       "      <td>66 cm</td>\n",
       "    </tr>\n",
       "    <tr>\n",
       "      <th>690</th>\n",
       "      <td>24-Dec-09</td>\n",
       "      <td>5 cm</td>\n",
       "      <td>1037 cm</td>\n",
       "      <td>66 cm</td>\n",
       "    </tr>\n",
       "    <tr>\n",
       "      <th>691</th>\n",
       "      <td>30-Dec-09</td>\n",
       "      <td>8 cm</td>\n",
       "      <td>1045 cm</td>\n",
       "      <td>64 cm</td>\n",
       "    </tr>\n",
       "    <tr>\n",
       "      <th>692</th>\n",
       "      <td>31-Dec-09</td>\n",
       "      <td>13 cm</td>\n",
       "      <td>1058 cm</td>\n",
       "      <td>64 cm</td>\n",
       "    </tr>\n",
       "  </tbody>\n",
       "</table>\n",
       "<p>693 rows × 4 columns</p>\n",
       "</div>"
      ],
      "text/plain": [
       "          Date 24 hr New Snow Season Snowfall Total Base Depth\n",
       "0     2-Jan-17           8 cm                  8 cm      74 cm\n",
       "1     4-Jan-17           8 cm                 16 cm      71 cm\n",
       "2     5-Jan-17           8 cm                 24 cm      76 cm\n",
       "3     8-Jan-17          10 cm                 34 cm      81 cm\n",
       "4    10-Jan-17          20 cm                 54 cm      79 cm\n",
       "..         ...            ...                   ...        ...\n",
       "688  22-Dec-09           3 cm               1029 cm      66 cm\n",
       "689  23-Dec-09           3 cm               1032 cm      66 cm\n",
       "690  24-Dec-09           5 cm               1037 cm      66 cm\n",
       "691  30-Dec-09           8 cm               1045 cm      64 cm\n",
       "692  31-Dec-09          13 cm               1058 cm      64 cm\n",
       "\n",
       "[693 rows x 4 columns]"
      ]
     },
     "execution_count": 5,
     "metadata": {},
     "output_type": "execute_result"
    }
   ],
   "source": [
    "JacksonHole = pd.read_csv(\"Jackson Hole - Wyoming.csv\")\n",
    "JacksonHole"
   ]
  },
  {
   "cell_type": "markdown",
   "id": "74b7eadb",
   "metadata": {},
   "source": [
    "This dataset has some annoying values to work with in each column. We need to take out the units and make them integers so that we can plot and manipulate them. "
   ]
  },
  {
   "cell_type": "code",
   "execution_count": 7,
   "id": "592a8541",
   "metadata": {},
   "outputs": [
    {
     "data": {
      "text/plain": [
       "dtype('O')"
      ]
     },
     "execution_count": 7,
     "metadata": {},
     "output_type": "execute_result"
    }
   ],
   "source": [
    "JacksonHole[\"Season Snowfall Total\"].dtype"
   ]
  },
  {
   "cell_type": "markdown",
   "id": "20500e79",
   "metadata": {},
   "source": [
    "This means that the data is in object form - not what we want. "
   ]
  },
  {
   "cell_type": "code",
   "execution_count": 8,
   "id": "5500e91a",
   "metadata": {},
   "outputs": [],
   "source": [
    "JacksonHole['Season Snowfall Total'] = JacksonHole['Season Snowfall Total'].str.replace('cm', '')\n",
    "JacksonHole['Season Snowfall Total'] = JacksonHole['Season Snowfall Total'].astype(int)"
   ]
  },
  {
   "cell_type": "code",
   "execution_count": 9,
   "id": "0eb25214",
   "metadata": {},
   "outputs": [
    {
     "data": {
      "text/html": [
       "<div>\n",
       "<style scoped>\n",
       "    .dataframe tbody tr th:only-of-type {\n",
       "        vertical-align: middle;\n",
       "    }\n",
       "\n",
       "    .dataframe tbody tr th {\n",
       "        vertical-align: top;\n",
       "    }\n",
       "\n",
       "    .dataframe thead th {\n",
       "        text-align: right;\n",
       "    }\n",
       "</style>\n",
       "<table border=\"1\" class=\"dataframe\">\n",
       "  <thead>\n",
       "    <tr style=\"text-align: right;\">\n",
       "      <th></th>\n",
       "      <th>Date</th>\n",
       "      <th>24 hr New Snow</th>\n",
       "      <th>Season Snowfall Total</th>\n",
       "      <th>Base Depth</th>\n",
       "    </tr>\n",
       "  </thead>\n",
       "  <tbody>\n",
       "    <tr>\n",
       "      <th>0</th>\n",
       "      <td>2-Jan-17</td>\n",
       "      <td>8 cm</td>\n",
       "      <td>8</td>\n",
       "      <td>74 cm</td>\n",
       "    </tr>\n",
       "    <tr>\n",
       "      <th>1</th>\n",
       "      <td>4-Jan-17</td>\n",
       "      <td>8 cm</td>\n",
       "      <td>16</td>\n",
       "      <td>71 cm</td>\n",
       "    </tr>\n",
       "    <tr>\n",
       "      <th>2</th>\n",
       "      <td>5-Jan-17</td>\n",
       "      <td>8 cm</td>\n",
       "      <td>24</td>\n",
       "      <td>76 cm</td>\n",
       "    </tr>\n",
       "    <tr>\n",
       "      <th>3</th>\n",
       "      <td>8-Jan-17</td>\n",
       "      <td>10 cm</td>\n",
       "      <td>34</td>\n",
       "      <td>81 cm</td>\n",
       "    </tr>\n",
       "    <tr>\n",
       "      <th>4</th>\n",
       "      <td>10-Jan-17</td>\n",
       "      <td>20 cm</td>\n",
       "      <td>54</td>\n",
       "      <td>79 cm</td>\n",
       "    </tr>\n",
       "    <tr>\n",
       "      <th>...</th>\n",
       "      <td>...</td>\n",
       "      <td>...</td>\n",
       "      <td>...</td>\n",
       "      <td>...</td>\n",
       "    </tr>\n",
       "    <tr>\n",
       "      <th>688</th>\n",
       "      <td>22-Dec-09</td>\n",
       "      <td>3 cm</td>\n",
       "      <td>1029</td>\n",
       "      <td>66 cm</td>\n",
       "    </tr>\n",
       "    <tr>\n",
       "      <th>689</th>\n",
       "      <td>23-Dec-09</td>\n",
       "      <td>3 cm</td>\n",
       "      <td>1032</td>\n",
       "      <td>66 cm</td>\n",
       "    </tr>\n",
       "    <tr>\n",
       "      <th>690</th>\n",
       "      <td>24-Dec-09</td>\n",
       "      <td>5 cm</td>\n",
       "      <td>1037</td>\n",
       "      <td>66 cm</td>\n",
       "    </tr>\n",
       "    <tr>\n",
       "      <th>691</th>\n",
       "      <td>30-Dec-09</td>\n",
       "      <td>8 cm</td>\n",
       "      <td>1045</td>\n",
       "      <td>64 cm</td>\n",
       "    </tr>\n",
       "    <tr>\n",
       "      <th>692</th>\n",
       "      <td>31-Dec-09</td>\n",
       "      <td>13 cm</td>\n",
       "      <td>1058</td>\n",
       "      <td>64 cm</td>\n",
       "    </tr>\n",
       "  </tbody>\n",
       "</table>\n",
       "<p>693 rows × 4 columns</p>\n",
       "</div>"
      ],
      "text/plain": [
       "          Date 24 hr New Snow  Season Snowfall Total Base Depth\n",
       "0     2-Jan-17           8 cm                      8      74 cm\n",
       "1     4-Jan-17           8 cm                     16      71 cm\n",
       "2     5-Jan-17           8 cm                     24      76 cm\n",
       "3     8-Jan-17          10 cm                     34      81 cm\n",
       "4    10-Jan-17          20 cm                     54      79 cm\n",
       "..         ...            ...                    ...        ...\n",
       "688  22-Dec-09           3 cm                   1029      66 cm\n",
       "689  23-Dec-09           3 cm                   1032      66 cm\n",
       "690  24-Dec-09           5 cm                   1037      66 cm\n",
       "691  30-Dec-09           8 cm                   1045      64 cm\n",
       "692  31-Dec-09          13 cm                   1058      64 cm\n",
       "\n",
       "[693 rows x 4 columns]"
      ]
     },
     "execution_count": 9,
     "metadata": {},
     "output_type": "execute_result"
    }
   ],
   "source": [
    "JacksonHole"
   ]
  },
  {
   "cell_type": "markdown",
   "id": "cb183510",
   "metadata": {},
   "source": [
    "We see in the column \"Season Snowfall Total the cm is removed and if we check the data type we can see that it is now of type integer 64. "
   ]
  },
  {
   "cell_type": "code",
   "execution_count": 10,
   "id": "ba2053ad",
   "metadata": {},
   "outputs": [
    {
     "data": {
      "text/plain": [
       "dtype('int64')"
      ]
     },
     "execution_count": 10,
     "metadata": {},
     "output_type": "execute_result"
    }
   ],
   "source": [
    "JacksonHole[\"Season Snowfall Total\"].dtype"
   ]
  },
  {
   "cell_type": "markdown",
   "id": "a1ba3bc3",
   "metadata": {},
   "source": [
    "If we want to work with any other columns we will have to perform the same preprocessing as shown before. "
   ]
  },
  {
   "cell_type": "markdown",
   "id": "ce16c6f2",
   "metadata": {},
   "source": [
    "2) Sorting values"
   ]
  },
  {
   "cell_type": "code",
   "execution_count": 14,
   "id": "05d982f7",
   "metadata": {},
   "outputs": [
    {
     "data": {
      "text/plain": [
       "55        3\n",
       "350       3\n",
       "131       5\n",
       "351       6\n",
       "282       8\n",
       "       ... \n",
       "277    1430\n",
       "278    1466\n",
       "279    1514\n",
       "280    1542\n",
       "281    1562\n",
       "Name: Season Snowfall Total, Length: 693, dtype: int64"
      ]
     },
     "execution_count": 14,
     "metadata": {},
     "output_type": "execute_result"
    }
   ],
   "source": [
    "JacksonHole[\"Season Snowfall Total\"].sort_values(ascending=True)"
   ]
  },
  {
   "cell_type": "markdown",
   "id": "8dee5ad3",
   "metadata": {},
   "source": [
    "With this we can see the values sorted in order from lowest to highest. We can also see the index next to the values in this list which can also be very helpful. \n",
    "\n",
    "We can also get just the min or max value with this simple function. "
   ]
  },
  {
   "cell_type": "code",
   "execution_count": 15,
   "id": "ab56650f",
   "metadata": {},
   "outputs": [
    {
     "data": {
      "text/plain": [
       "1562"
      ]
     },
     "execution_count": 15,
     "metadata": {},
     "output_type": "execute_result"
    }
   ],
   "source": [
    "JacksonHole_Total_Best = JacksonHole[\"Season Snowfall Total\"].max()\n",
    "JacksonHole_Total_Best"
   ]
  },
  {
   "cell_type": "markdown",
   "id": "f70b213f",
   "metadata": {},
   "source": [
    "3) Plotting Values"
   ]
  },
  {
   "cell_type": "code",
   "execution_count": 24,
   "id": "34e9fac3",
   "metadata": {},
   "outputs": [
    {
     "data": {
      "image/png": "[encoded data removed]",
      "text/plain": [
       "<Figure size 432x288 with 1 Axes>"
      ]
     },
     "metadata": {
      "needs_background": "light"
     },
     "output_type": "display_data"
    }
   ],
   "source": [
    "x = JacksonHole[\"Date\"]\n",
    "y = JacksonHole[\"Season Snowfall Total\"]\n",
    "\n",
    "plt.bar(x, y)\n",
    "plt.xlabel('Date')\n",
    "plt.ylabel('Season Snowfall Total')\n",
    "plt.title('Example Plot Over Time')\n",
    "plt.plot(x, y, color='blue', linestyle='--', linewidth=1)\n",
    "#plt.grid(True)                                                  if  you want grid lines on graph\n",
    "#plt.xticks(np.arange(0, 50, 1), np.arange(0, 10000, 1)[::10])   can change which x labels are visible\n",
    "\n",
    "plt.xticks(visible=False)                                       #or just make them invisble\n",
    "\n",
    "#plt.bar(x[2], y[2], color='r')                                  if you want a specific bar highlighted\n",
    "\n",
    "plt.show()"
   ]
  },
  {
   "cell_type": "code",
   "execution_count": 25,
   "id": "dfbf4a97",
   "metadata": {},
   "outputs": [
    {
     "data": {
      "image/png": "[encoded data removed]",
      "text/plain": [
       "<Figure size 432x288 with 1 Axes>"
      ]
     },
     "metadata": {
      "needs_background": "light"
     },
     "output_type": "display_data"
    }
   ],
   "source": [
    "x = JacksonHole[\"Date\"]\n",
    "y = JacksonHole[\"Season Snowfall Total\"]\n",
    "\n",
    "plt.scatter(x, y)\n",
    "plt.xlabel('Date')\n",
    "plt.ylabel('Season Snowfall Total')\n",
    "plt.title('Example Plot Over Time')\n",
    "plt.plot(x, y, color='blue', linestyle='--', linewidth=1)\n",
    "#plt.grid(True)                                                  if  you want grid lines on graph\n",
    "#plt.xticks(np.arange(0, 50, 1), np.arange(0, 10000, 1)[::10])   can change which x labels are visible\n",
    "\n",
    "plt.xticks(visible=False)                                       #or just make them invisble\n",
    "\n",
    "#plt.bar(x[2], y[2], color='r')                                  if you want a specific bar highlighted\n",
    "\n",
    "plt.show()"
   ]
  },
  {
   "cell_type": "markdown",
   "id": "08ba2ce1",
   "metadata": {},
   "source": [
    "Knowing when to use different kinds of data visualizations is important, but just knowing the differnt ways to do them is more important in my opinion because you can always choose the best looking one after you have implemented both. "
   ]
  },
  {
   "cell_type": "markdown",
   "id": "7742dcc0",
   "metadata": {},
   "source": [
    "4) Merging Datasets in different ways. "
   ]
  },
  {
   "cell_type": "markdown",
   "id": "81f2e361",
   "metadata": {},
   "source": [
    "I will import another dataset so that we can merge two together. "
   ]
  },
  {
   "cell_type": "code",
   "execution_count": 34,
   "id": "3661ae42",
   "metadata": {},
   "outputs": [
    {
     "data": {
      "text/html": [
       "<div>\n",
       "<style scoped>\n",
       "    .dataframe tbody tr th:only-of-type {\n",
       "        vertical-align: middle;\n",
       "    }\n",
       "\n",
       "    .dataframe tbody tr th {\n",
       "        vertical-align: top;\n",
       "    }\n",
       "\n",
       "    .dataframe thead th {\n",
       "        text-align: right;\n",
       "    }\n",
       "</style>\n",
       "<table border=\"1\" class=\"dataframe\">\n",
       "  <thead>\n",
       "    <tr style=\"text-align: right;\">\n",
       "      <th></th>\n",
       "      <th>Date</th>\n",
       "      <th>24 hr New Snow</th>\n",
       "      <th>Season Snowfall Total</th>\n",
       "      <th>Base Depth</th>\n",
       "    </tr>\n",
       "  </thead>\n",
       "  <tbody>\n",
       "    <tr>\n",
       "      <th>0</th>\n",
       "      <td>2-Jan-17</td>\n",
       "      <td>13 cm</td>\n",
       "      <td>13 cm</td>\n",
       "      <td>152 cm</td>\n",
       "    </tr>\n",
       "    <tr>\n",
       "      <th>1</th>\n",
       "      <td>3-Jan-17</td>\n",
       "      <td>46 cm</td>\n",
       "      <td>59 cm</td>\n",
       "      <td>188 cm</td>\n",
       "    </tr>\n",
       "    <tr>\n",
       "      <th>2</th>\n",
       "      <td>4-Jan-17</td>\n",
       "      <td>5 cm</td>\n",
       "      <td>64 cm</td>\n",
       "      <td>188 cm</td>\n",
       "    </tr>\n",
       "    <tr>\n",
       "      <th>3</th>\n",
       "      <td>5-Jan-17</td>\n",
       "      <td>28 cm</td>\n",
       "      <td>92 cm</td>\n",
       "      <td>185 cm</td>\n",
       "    </tr>\n",
       "    <tr>\n",
       "      <th>4</th>\n",
       "      <td>8-Jan-17</td>\n",
       "      <td>8 cm</td>\n",
       "      <td>100 cm</td>\n",
       "      <td>185 cm</td>\n",
       "    </tr>\n",
       "    <tr>\n",
       "      <th>...</th>\n",
       "      <td>...</td>\n",
       "      <td>...</td>\n",
       "      <td>...</td>\n",
       "      <td>...</td>\n",
       "    </tr>\n",
       "    <tr>\n",
       "      <th>581</th>\n",
       "      <td>23-Dec-09</td>\n",
       "      <td>13 cm</td>\n",
       "      <td>1150 cm</td>\n",
       "      <td>119 cm</td>\n",
       "    </tr>\n",
       "    <tr>\n",
       "      <th>582</th>\n",
       "      <td>24-Dec-09</td>\n",
       "      <td>3 cm</td>\n",
       "      <td>1153 cm</td>\n",
       "      <td>119 cm</td>\n",
       "    </tr>\n",
       "    <tr>\n",
       "      <th>583</th>\n",
       "      <td>25-Dec-09</td>\n",
       "      <td>3 cm</td>\n",
       "      <td>1156 cm</td>\n",
       "      <td>117 cm</td>\n",
       "    </tr>\n",
       "    <tr>\n",
       "      <th>584</th>\n",
       "      <td>27-Dec-09</td>\n",
       "      <td>3 cm</td>\n",
       "      <td>1159 cm</td>\n",
       "      <td>117 cm</td>\n",
       "    </tr>\n",
       "    <tr>\n",
       "      <th>585</th>\n",
       "      <td>31-Dec-09</td>\n",
       "      <td>43 cm</td>\n",
       "      <td>1202 cm</td>\n",
       "      <td>135 cm</td>\n",
       "    </tr>\n",
       "  </tbody>\n",
       "</table>\n",
       "<p>586 rows × 4 columns</p>\n",
       "</div>"
      ],
      "text/plain": [
       "          Date 24 hr New Snow Season Snowfall Total Base Depth\n",
       "0     2-Jan-17          13 cm                 13 cm     152 cm\n",
       "1     3-Jan-17          46 cm                 59 cm     188 cm\n",
       "2     4-Jan-17           5 cm                 64 cm     188 cm\n",
       "3     5-Jan-17          28 cm                 92 cm     185 cm\n",
       "4     8-Jan-17           8 cm                100 cm     185 cm\n",
       "..         ...            ...                   ...        ...\n",
       "581  23-Dec-09          13 cm               1150 cm     119 cm\n",
       "582  24-Dec-09           3 cm               1153 cm     119 cm\n",
       "583  25-Dec-09           3 cm               1156 cm     117 cm\n",
       "584  27-Dec-09           3 cm               1159 cm     117 cm\n",
       "585  31-Dec-09          43 cm               1202 cm     135 cm\n",
       "\n",
       "[586 rows x 4 columns]"
      ]
     },
     "execution_count": 34,
     "metadata": {},
     "output_type": "execute_result"
    }
   ],
   "source": [
    "Snowbird = pd.read_csv(\"Snowbird - Utah.csv\")\n",
    "Snowbird"
   ]
  },
  {
   "cell_type": "markdown",
   "id": "685d3368",
   "metadata": {},
   "source": [
    "First we will merge the Snowbird dataset on top of the Telluride dataset. \n",
    "\n",
    "We see that Snowbird has 586 rows, and after we merge the two we see that there are 1279 rows in the total dataset. What this code does is it puts the values from Telluride underneath Snowbird stacking it on top. "
   ]
  },
  {
   "cell_type": "code",
   "execution_count": 35,
   "id": "a171d23d",
   "metadata": {},
   "outputs": [],
   "source": [
    "merged_df = pd.concat([Snowbird, JacksonHole], axis=0, ignore_index=True)"
   ]
  },
  {
   "cell_type": "code",
   "execution_count": 36,
   "id": "5ce9d55b",
   "metadata": {},
   "outputs": [
    {
     "data": {
      "text/html": [
       "<div>\n",
       "<style scoped>\n",
       "    .dataframe tbody tr th:only-of-type {\n",
       "        vertical-align: middle;\n",
       "    }\n",
       "\n",
       "    .dataframe tbody tr th {\n",
       "        vertical-align: top;\n",
       "    }\n",
       "\n",
       "    .dataframe thead th {\n",
       "        text-align: right;\n",
       "    }\n",
       "</style>\n",
       "<table border=\"1\" class=\"dataframe\">\n",
       "  <thead>\n",
       "    <tr style=\"text-align: right;\">\n",
       "      <th></th>\n",
       "      <th>Date</th>\n",
       "      <th>24 hr New Snow</th>\n",
       "      <th>Season Snowfall Total</th>\n",
       "      <th>Base Depth</th>\n",
       "    </tr>\n",
       "  </thead>\n",
       "  <tbody>\n",
       "    <tr>\n",
       "      <th>0</th>\n",
       "      <td>2-Jan-17</td>\n",
       "      <td>13 cm</td>\n",
       "      <td>13 cm</td>\n",
       "      <td>152 cm</td>\n",
       "    </tr>\n",
       "    <tr>\n",
       "      <th>1</th>\n",
       "      <td>3-Jan-17</td>\n",
       "      <td>46 cm</td>\n",
       "      <td>59 cm</td>\n",
       "      <td>188 cm</td>\n",
       "    </tr>\n",
       "    <tr>\n",
       "      <th>2</th>\n",
       "      <td>4-Jan-17</td>\n",
       "      <td>5 cm</td>\n",
       "      <td>64 cm</td>\n",
       "      <td>188 cm</td>\n",
       "    </tr>\n",
       "    <tr>\n",
       "      <th>3</th>\n",
       "      <td>5-Jan-17</td>\n",
       "      <td>28 cm</td>\n",
       "      <td>92 cm</td>\n",
       "      <td>185 cm</td>\n",
       "    </tr>\n",
       "    <tr>\n",
       "      <th>4</th>\n",
       "      <td>8-Jan-17</td>\n",
       "      <td>8 cm</td>\n",
       "      <td>100 cm</td>\n",
       "      <td>185 cm</td>\n",
       "    </tr>\n",
       "    <tr>\n",
       "      <th>...</th>\n",
       "      <td>...</td>\n",
       "      <td>...</td>\n",
       "      <td>...</td>\n",
       "      <td>...</td>\n",
       "    </tr>\n",
       "    <tr>\n",
       "      <th>1274</th>\n",
       "      <td>22-Dec-09</td>\n",
       "      <td>3 cm</td>\n",
       "      <td>1029</td>\n",
       "      <td>66 cm</td>\n",
       "    </tr>\n",
       "    <tr>\n",
       "      <th>1275</th>\n",
       "      <td>23-Dec-09</td>\n",
       "      <td>3 cm</td>\n",
       "      <td>1032</td>\n",
       "      <td>66 cm</td>\n",
       "    </tr>\n",
       "    <tr>\n",
       "      <th>1276</th>\n",
       "      <td>24-Dec-09</td>\n",
       "      <td>5 cm</td>\n",
       "      <td>1037</td>\n",
       "      <td>66 cm</td>\n",
       "    </tr>\n",
       "    <tr>\n",
       "      <th>1277</th>\n",
       "      <td>30-Dec-09</td>\n",
       "      <td>8 cm</td>\n",
       "      <td>1045</td>\n",
       "      <td>64 cm</td>\n",
       "    </tr>\n",
       "    <tr>\n",
       "      <th>1278</th>\n",
       "      <td>31-Dec-09</td>\n",
       "      <td>13 cm</td>\n",
       "      <td>1058</td>\n",
       "      <td>64 cm</td>\n",
       "    </tr>\n",
       "  </tbody>\n",
       "</table>\n",
       "<p>1279 rows × 4 columns</p>\n",
       "</div>"
      ],
      "text/plain": [
       "           Date 24 hr New Snow Season Snowfall Total Base Depth\n",
       "0      2-Jan-17          13 cm                 13 cm     152 cm\n",
       "1      3-Jan-17          46 cm                 59 cm     188 cm\n",
       "2      4-Jan-17           5 cm                 64 cm     188 cm\n",
       "3      5-Jan-17          28 cm                 92 cm     185 cm\n",
       "4      8-Jan-17           8 cm                100 cm     185 cm\n",
       "...         ...            ...                   ...        ...\n",
       "1274  22-Dec-09           3 cm                  1029      66 cm\n",
       "1275  23-Dec-09           3 cm                  1032      66 cm\n",
       "1276  24-Dec-09           5 cm                  1037      66 cm\n",
       "1277  30-Dec-09           8 cm                  1045      64 cm\n",
       "1278  31-Dec-09          13 cm                  1058      64 cm\n",
       "\n",
       "[1279 rows x 4 columns]"
      ]
     },
     "execution_count": 36,
     "metadata": {},
     "output_type": "execute_result"
    }
   ],
   "source": [
    "merged_df"
   ]
  },
  {
   "cell_type": "markdown",
   "id": "3227ad0e",
   "metadata": {},
   "source": [
    "We can also merge with the merge function. This can achieve a wider array of options, but is tougher to work with because you need to merge on something. "
   ]
  },
  {
   "cell_type": "code",
   "execution_count": 39,
   "id": "118f35b6",
   "metadata": {},
   "outputs": [
    {
     "data": {
      "text/html": [
       "<div>\n",
       "<style scoped>\n",
       "    .dataframe tbody tr th:only-of-type {\n",
       "        vertical-align: middle;\n",
       "    }\n",
       "\n",
       "    .dataframe tbody tr th {\n",
       "        vertical-align: top;\n",
       "    }\n",
       "\n",
       "    .dataframe thead th {\n",
       "        text-align: right;\n",
       "    }\n",
       "</style>\n",
       "<table border=\"1\" class=\"dataframe\">\n",
       "  <thead>\n",
       "    <tr style=\"text-align: right;\">\n",
       "      <th></th>\n",
       "      <th>Date</th>\n",
       "      <th>24 hr New Snow_x</th>\n",
       "      <th>Season Snowfall Total_x</th>\n",
       "      <th>Base Depth_x</th>\n",
       "      <th>24 hr New Snow_y</th>\n",
       "      <th>Season Snowfall Total_y</th>\n",
       "      <th>Base Depth_y</th>\n",
       "    </tr>\n",
       "  </thead>\n",
       "  <tbody>\n",
       "    <tr>\n",
       "      <th>0</th>\n",
       "      <td>2-Jan-17</td>\n",
       "      <td>13 cm</td>\n",
       "      <td>13 cm</td>\n",
       "      <td>152 cm</td>\n",
       "      <td>8 cm</td>\n",
       "      <td>8.0</td>\n",
       "      <td>74 cm</td>\n",
       "    </tr>\n",
       "    <tr>\n",
       "      <th>1</th>\n",
       "      <td>3-Jan-17</td>\n",
       "      <td>46 cm</td>\n",
       "      <td>59 cm</td>\n",
       "      <td>188 cm</td>\n",
       "      <td>NaN</td>\n",
       "      <td>NaN</td>\n",
       "      <td>NaN</td>\n",
       "    </tr>\n",
       "    <tr>\n",
       "      <th>2</th>\n",
       "      <td>4-Jan-17</td>\n",
       "      <td>5 cm</td>\n",
       "      <td>64 cm</td>\n",
       "      <td>188 cm</td>\n",
       "      <td>8 cm</td>\n",
       "      <td>16.0</td>\n",
       "      <td>71 cm</td>\n",
       "    </tr>\n",
       "    <tr>\n",
       "      <th>3</th>\n",
       "      <td>5-Jan-17</td>\n",
       "      <td>28 cm</td>\n",
       "      <td>92 cm</td>\n",
       "      <td>185 cm</td>\n",
       "      <td>8 cm</td>\n",
       "      <td>24.0</td>\n",
       "      <td>76 cm</td>\n",
       "    </tr>\n",
       "    <tr>\n",
       "      <th>4</th>\n",
       "      <td>8-Jan-17</td>\n",
       "      <td>8 cm</td>\n",
       "      <td>100 cm</td>\n",
       "      <td>185 cm</td>\n",
       "      <td>10 cm</td>\n",
       "      <td>34.0</td>\n",
       "      <td>81 cm</td>\n",
       "    </tr>\n",
       "    <tr>\n",
       "      <th>...</th>\n",
       "      <td>...</td>\n",
       "      <td>...</td>\n",
       "      <td>...</td>\n",
       "      <td>...</td>\n",
       "      <td>...</td>\n",
       "      <td>...</td>\n",
       "      <td>...</td>\n",
       "    </tr>\n",
       "    <tr>\n",
       "      <th>581</th>\n",
       "      <td>23-Dec-09</td>\n",
       "      <td>13 cm</td>\n",
       "      <td>1150 cm</td>\n",
       "      <td>119 cm</td>\n",
       "      <td>3 cm</td>\n",
       "      <td>1032.0</td>\n",
       "      <td>66 cm</td>\n",
       "    </tr>\n",
       "    <tr>\n",
       "      <th>582</th>\n",
       "      <td>24-Dec-09</td>\n",
       "      <td>3 cm</td>\n",
       "      <td>1153 cm</td>\n",
       "      <td>119 cm</td>\n",
       "      <td>5 cm</td>\n",
       "      <td>1037.0</td>\n",
       "      <td>66 cm</td>\n",
       "    </tr>\n",
       "    <tr>\n",
       "      <th>583</th>\n",
       "      <td>25-Dec-09</td>\n",
       "      <td>3 cm</td>\n",
       "      <td>1156 cm</td>\n",
       "      <td>117 cm</td>\n",
       "      <td>NaN</td>\n",
       "      <td>NaN</td>\n",
       "      <td>NaN</td>\n",
       "    </tr>\n",
       "    <tr>\n",
       "      <th>584</th>\n",
       "      <td>27-Dec-09</td>\n",
       "      <td>3 cm</td>\n",
       "      <td>1159 cm</td>\n",
       "      <td>117 cm</td>\n",
       "      <td>NaN</td>\n",
       "      <td>NaN</td>\n",
       "      <td>NaN</td>\n",
       "    </tr>\n",
       "    <tr>\n",
       "      <th>585</th>\n",
       "      <td>31-Dec-09</td>\n",
       "      <td>43 cm</td>\n",
       "      <td>1202 cm</td>\n",
       "      <td>135 cm</td>\n",
       "      <td>13 cm</td>\n",
       "      <td>1058.0</td>\n",
       "      <td>64 cm</td>\n",
       "    </tr>\n",
       "  </tbody>\n",
       "</table>\n",
       "<p>586 rows × 7 columns</p>\n",
       "</div>"
      ],
      "text/plain": [
       "          Date 24 hr New Snow_x Season Snowfall Total_x Base Depth_x  \\\n",
       "0     2-Jan-17            13 cm                   13 cm       152 cm   \n",
       "1     3-Jan-17            46 cm                   59 cm       188 cm   \n",
       "2     4-Jan-17             5 cm                   64 cm       188 cm   \n",
       "3     5-Jan-17            28 cm                   92 cm       185 cm   \n",
       "4     8-Jan-17             8 cm                  100 cm       185 cm   \n",
       "..         ...              ...                     ...          ...   \n",
       "581  23-Dec-09            13 cm                 1150 cm       119 cm   \n",
       "582  24-Dec-09             3 cm                 1153 cm       119 cm   \n",
       "583  25-Dec-09             3 cm                 1156 cm       117 cm   \n",
       "584  27-Dec-09             3 cm                 1159 cm       117 cm   \n",
       "585  31-Dec-09            43 cm                 1202 cm       135 cm   \n",
       "\n",
       "    24 hr New Snow_y  Season Snowfall Total_y Base Depth_y  \n",
       "0               8 cm                      8.0        74 cm  \n",
       "1                NaN                      NaN          NaN  \n",
       "2               8 cm                     16.0        71 cm  \n",
       "3               8 cm                     24.0        76 cm  \n",
       "4              10 cm                     34.0        81 cm  \n",
       "..               ...                      ...          ...  \n",
       "581             3 cm                   1032.0        66 cm  \n",
       "582             5 cm                   1037.0        66 cm  \n",
       "583              NaN                      NaN          NaN  \n",
       "584              NaN                      NaN          NaN  \n",
       "585            13 cm                   1058.0        64 cm  \n",
       "\n",
       "[586 rows x 7 columns]"
      ]
     },
     "execution_count": 39,
     "metadata": {},
     "output_type": "execute_result"
    }
   ],
   "source": [
    "merged_df2 = Snowbird.merge(JacksonHole, on=\"Date\", how=\"left\")\n",
    "merged_df2"
   ]
  }
 ],
 "metadata": {
  "kernelspec": {
   "display_name": "Python 3 (ipykernel)",
   "language": "python",
   "name": "python3"
  },
  "language_info": {
   "codemirror_mode": {
    "name": "ipython",
    "version": 3
   },
   "file_extension": ".py",
   "mimetype": "text/x-python",
   "name": "python",
   "nbconvert_exporter": "python",
   "pygments_lexer": "ipython3",
   "version": "3.8.10"
  }
 },
 "nbformat": 4,
 "nbformat_minor": 5
}
